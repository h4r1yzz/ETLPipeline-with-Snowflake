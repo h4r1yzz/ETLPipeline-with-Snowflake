{
 "cells": [
  {
   "cell_type": "code",
   "execution_count": 41,
   "metadata": {},
   "outputs": [],
   "source": [
    "import boto3\n",
    "import pandas as pd\n",
    "from faker import Faker\n",
    "import random\n",
    "from io import StringIO\n",
    "from datetime import datetime"
   ]
  },
  {
   "cell_type": "code",
   "execution_count": 42,
   "metadata": {},
   "outputs": [],
   "source": [
    "# Initialize Faker and AWS S3 client\n",
    "fake = Faker()\n",
    "s3 = boto3.client('s3')"
   ]
  },
  {
   "cell_type": "code",
   "execution_count": 43,
   "metadata": {},
   "outputs": [],
   "source": [
    "def generate_cdc_order_data(num_rows=500):\n",
    "    data = []\n",
    "    for _ in range(num_rows):\n",
    "        order = {\n",
    "            'order_id': fake.uuid4(),\n",
    "            'customer_id': fake.uuid4(),\n",
    "            'order_date': fake.date_this_year(),\n",
    "            'status': random.choice(['CREATED', 'SHIPPED', 'DELIVERED', 'CANCELLED']),\n",
    "            'country': random.choice(['USA', 'CANADA', 'MEXICO', 'BRAZIL', 'ARGENTINA', 'CHILE', 'PERU']),\n",
    "            'product_id': fake.uuid4(),\n",
    "            'quantity': random.randint(1, 5),\n",
    "            'price': round(random.uniform(10.0, 500.0), 2),\n",
    "            'total_amount': 0.0,  \n",
    "            'cdc_timestamp': datetime.now()  \n",
    "        }\n",
    "        order['total_amount'] = round(order['quantity'] * order['price'], 2)\n",
    "        data.append(order)\n",
    "\n",
    "    df = pd.DataFrame(data)\n",
    "    return df"
   ]
  },
  {
   "cell_type": "code",
   "execution_count": 44,
   "metadata": {},
   "outputs": [
    {
     "name": "stdout",
     "output_type": "stream",
     "text": [
      "Data uploaded to s3://harrytestz/orders/fake_cdc_order_data_2.csv\n"
     ]
    }
   ],
   "source": [
    "def upload_to_s3(bucket_name, file_name, df):\n",
    "    csv_buffer = StringIO()\n",
    "    df.to_csv(csv_buffer, index=False)\n",
    "    s3.put_object(Bucket=bucket_name, Key=file_name, Body=csv_buffer.getvalue())\n",
    "    print(f\"Data uploaded to s3://{bucket_name}/{file_name}\")\n",
    "\n",
    "df_cdc_order_data = generate_cdc_order_data(num_rows=4000)\n",
    "\n",
    "# Define S3 bucket and file path\n",
    "bucket_name = 'harrytestz'\n",
    "file_name = 'orders/fake_cdc_order_data_2.csv' \n",
    "\n",
    "upload_to_s3(bucket_name, file_name, df_cdc_order_data)"
   ]
  }
 ],
 "metadata": {
  "kernelspec": {
   "display_name": "myenv",
   "language": "python",
   "name": "python3"
  },
  "language_info": {
   "codemirror_mode": {
    "name": "ipython",
    "version": 3
   },
   "file_extension": ".py",
   "mimetype": "text/x-python",
   "name": "python",
   "nbconvert_exporter": "python",
   "pygments_lexer": "ipython3",
   "version": "3.12.5"
  }
 },
 "nbformat": 4,
 "nbformat_minor": 2
}
